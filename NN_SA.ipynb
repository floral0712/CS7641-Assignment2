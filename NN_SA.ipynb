{
 "cells": [
  {
   "cell_type": "code",
   "execution_count": 1,
   "id": "e546186c",
   "metadata": {},
   "outputs": [],
   "source": [
    "import six\n",
    "import sys\n",
    "sys.modules['sklearn.externals.six'] = six\n",
    "import numpy as np\n",
    "import matplotlib.pyplot as plt\n",
    "import pandas as pd\n",
    "from sklearn.preprocessing import StandardScaler, OneHotEncoder, LabelEncoder\n",
    "from mlrose.opt_probs import TSPOpt, DiscreteOpt\n",
    "from mlrose.fitness import TravellingSales, FlipFlop, FourPeaks\n",
    "from sklearn.model_selection import train_test_split\n",
    "from sklearn.preprocessing import StandardScaler\n",
    "import mlrose\n",
    "from sklearn.metrics import log_loss, classification_report\n"
   ]
  },
  {
   "cell_type": "code",
   "execution_count": 3,
   "id": "133c141a",
   "metadata": {},
   "outputs": [],
   "source": [
    "def load_dataset(file):\n",
    "    df = pd.read_csv(file)\n",
    "    df['deposit'] = LabelEncoder().fit_transform(df['deposit'])\n",
    "    cat_col = ['job','marital','education','default','housing','loan','contact','day','month','poutcome']\n",
    "    df_matrix = df.copy()\n",
    "    for col in cat_col:\n",
    "        df_cat = df[col]\n",
    "        df_cat_dummy = pd.get_dummies(df_cat,drop_first=True, prefix=col)\n",
    "        df_matrix.drop(col,axis=1,inplace=True)\n",
    "        df_matrix = pd.concat([df_matrix,df_cat_dummy],axis=1)\n",
    "    num_col = ['age','balance','duration','pdays','previous','campaign']\n",
    "    for col in num_col:\n",
    "        df_col = df[col]\n",
    "        df_matrix[col] = (df_col-df_col.min())/(df_col.max()-df_col.min())\n",
    "    df_Y = df_matrix['deposit']\n",
    "    df_X = df_matrix.drop('deposit',axis = 1)\n",
    "    X_train, X_test, y_train, y_test = train_test_split(df_X, df_Y, test_size=0.33, random_state=42)\n",
    "    return X_train, X_test, y_train, y_test"
   ]
  },
  {
   "cell_type": "code",
   "execution_count": null,
   "id": "d8448626",
   "metadata": {},
   "outputs": [],
   "source": [
    "x_train, x_test, y_train, y_test = load_dataset('bank.csv')"
   ]
  },
  {
   "cell_type": "code",
   "execution_count": 19,
   "id": "cc744221",
   "metadata": {},
   "outputs": [],
   "source": [
    "sa_nn = mlrose.NeuralNetwork(hidden_nodes=[16, 16], activation='relu',\n",
    "                          algorithm='simulated_annealing', max_iters=50000,\n",
    "                          bias=True, is_classifier=True, learning_rate=0.01,\n",
    "                          early_stopping=False, clip_max=1e10,\n",
    "                          max_attempts=50000, random_state=10, curve=True)"
   ]
  },
  {
   "cell_type": "code",
   "execution_count": 20,
   "id": "33765c30",
   "metadata": {},
   "outputs": [
    {
     "data": {
      "text/plain": [
       "NeuralNetwork(hidden_nodes=[16, 16], learning_rate=0.01, max_iters=50000)"
      ]
     },
     "execution_count": 20,
     "metadata": {},
     "output_type": "execute_result"
    }
   ],
   "source": [
    "sa_nn.fit(x_train, y_train)"
   ]
  },
  {
   "cell_type": "code",
   "execution_count": 21,
   "id": "b1b99c21",
   "metadata": {},
   "outputs": [
    {
     "name": "stdout",
     "output_type": "stream",
     "text": [
      "SA training classification report = \n",
      "               precision    recall  f1-score   support\n",
      "\n",
      "           0       0.50      0.43      0.46      3956\n",
      "           1       0.45      0.52      0.48      3522\n",
      "\n",
      "    accuracy                           0.47      7478\n",
      "   macro avg       0.48      0.48      0.47      7478\n",
      "weighted avg       0.48      0.47      0.47      7478\n",
      "\n"
     ]
    }
   ],
   "source": [
    "print('SA training classification report = \\n {}'.format(classification_report(y_train, sa_nn.predict(x_train))))"
   ]
  },
  {
   "cell_type": "code",
   "execution_count": 22,
   "id": "b30919f8",
   "metadata": {},
   "outputs": [
    {
     "name": "stdout",
     "output_type": "stream",
     "text": [
      "SA test classification report = \n",
      "               precision    recall  f1-score   support\n",
      "\n",
      "           0       0.49      0.42      0.45      1917\n",
      "           1       0.45      0.52      0.48      1767\n",
      "\n",
      "    accuracy                           0.47      3684\n",
      "   macro avg       0.47      0.47      0.47      3684\n",
      "weighted avg       0.47      0.47      0.47      3684\n",
      "\n"
     ]
    }
   ],
   "source": [
    "print('SA test classification report = \\n {}'.format(classification_report(y_test, sa_nn.predict(x_test))))"
   ]
  },
  {
   "cell_type": "code",
   "execution_count": 23,
   "id": "10c78add",
   "metadata": {},
   "outputs": [
    {
     "data": {
      "text/plain": [
       "Text(0, 0.5, 'Fitness')"
      ]
     },
     "execution_count": 23,
     "metadata": {},
     "output_type": "execute_result"
    },
    {
     "data": {
      "image/png": "[encoded data removed]",
      "text/plain": [
       "<Figure size 432x288 with 1 Axes>"
      ]
     },
     "metadata": {
      "needs_background": "light"
     },
     "output_type": "display_data"
    }
   ],
   "source": [
    "plt.plot(sa_nn.fitness_curve * -1)\n",
    "plt.xlabel('iterations')\n",
    "plt.ylabel('Fitness')"
   ]
  }
 ],
 "metadata": {
  "kernelspec": {
   "display_name": "Python 3",
   "language": "python",
   "name": "python3"
  },
  "language_info": {
   "codemirror_mode": {
    "name": "ipython",
    "version": 3
   },
   "file_extension": ".py",
   "mimetype": "text/x-python",
   "name": "python",
   "nbconvert_exporter": "python",
   "pygments_lexer": "ipython3",
   "version": "3.8.8"
  }
 },
 "nbformat": 4,
 "nbformat_minor": 5
}
